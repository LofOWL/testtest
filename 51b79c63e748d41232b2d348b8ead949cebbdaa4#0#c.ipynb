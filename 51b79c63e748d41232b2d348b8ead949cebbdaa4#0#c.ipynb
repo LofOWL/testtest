{
 "metadata": {
  "notebookname": "Recherche d'attributs",
  "signature": "sha256:0e6a9190b2ef01db9cac85e31ec8762a0214d604c5a4d7c9fa9752db204b4135",
  "version": "1.0"
 },
 "nbformat": 3,
 "nbformat_minor": 0,
 "worksheets": [
  {
   "cells": [
    {
     "cell_type": "heading",
     "level": 1,
     "metadata": {},
     "source": [
      "Attributs de classe et attributs d'instance"
     ]
    },
    {
     "cell_type": "heading",
     "level": 2,
     "metadata": {},
     "source": [
      "Compl\u00e9ment - niveau interm\u00e9diaire"
     ]
    },
    {
     "cell_type": "markdown",
     "metadata": {},
     "source": [
      "Nous avons vu jusqu'\u00e0 pr\u00e9sent que l'on peut ajouter des attributs \u00e0 toutes sortes d'objets en python, et notamment \u00e0\n",
      " * un module,\n",
      " * une fonction,\n",
      " * une classe,\n",
      " * une instance de classe."
     ]
    },
    {
     "cell_type": "markdown",
     "metadata": {},
     "source": [
      "En particulier nous avons vu que, **en r\u00e8gle g\u00e9n\u00e9rale** : \n",
      " * une *m\u00e9thode* est un *attribut de classe*,\n",
      " * et que les *donn\u00e9es* qui d\u00e9crivent l'objet sont rang\u00e9es dans des *attributs de l'instance*."
     ]
    },
    {
     "cell_type": "heading",
     "level": 3,
     "metadata": {},
     "source": [
      "Propos de ce compl\u00e9ment"
     ]
    },
    {
     "cell_type": "markdown",
     "metadata": {},
     "source": [
      "Dans ce compl\u00e9ment nous allons approfondir les notions d'attributs de classe et attributs d'instance. Nous allons tout d'abord voir qu'un attribut est cherch\u00e9 **d'abord dans l'instance** et **ensuite dans la classe**. Ce faisant nous verrons que le langage permet \u00e9galement, quoi que c'est moins fr\u00e9quent :\n",
      " * d'attacher des *donn\u00e9es \u00e0 une classe* - pour d\u00e9finir une valeur par d\u00e9faut valable pour toute la classe, ou de\n",
      " * *d\u00e9finir une m\u00e9thode sur une instance* - pour sp\u00e9cialiser un comportement pour un seul objet, et ainsi \u00e9viter de d\u00e9finir une nouvelle classe pour un seul objet."
     ]
    },
    {
     "cell_type": "heading",
     "level": 3,
     "metadata": {},
     "source": [
      "Un attribut de donn\u00e9e d\u00e9fini sur la classe"
     ]
    },
    {
     "cell_type": "markdown",
     "metadata": {},
     "source": [
      "Voyons pour commencer un exemple de classe avec un attribut de donn\u00e9es"
     ]
    },
    {
     "cell_type": "code",
     "collapsed": false,
     "input": [
      "class Demo:\n",
      "    \n",
      "    attribut = \"attribut de classe\""
     ],
     "language": "python",
     "metadata": {},
     "outputs": []
    },
    {
     "cell_type": "markdown",
     "metadata": {},
     "source": [
      "Naturellement, on aurait pu aussi d\u00e9finir des m\u00e9thodes dans cette classe, nous avons juste choisi de montrer le plus petit exemple possible."
     ]
    },
    {
     "cell_type": "markdown",
     "metadata": {},
     "source": [
      "La classe `Demo` poss\u00e8de donc maintenant l'attribut `attribut` qui vaut"
     ]
    },
    {
     "cell_type": "code",
     "collapsed": false,
     "input": [
      "Demo.attribut"
     ],
     "language": "python",
     "metadata": {},
     "outputs": []
    },
    {
     "cell_type": "markdown",
     "metadata": {},
     "source": [
      "Cr\u00e9ons \u00e0 pr\u00e9sent une instance de cette classe :"
     ]
    },
    {
     "cell_type": "code",
     "collapsed": false,
     "input": [
      "# une instance de Demo\n",
      "special = Demo()"
     ],
     "language": "python",
     "metadata": {},
     "outputs": []
    },
    {
     "cell_type": "markdown",
     "metadata": {},
     "source": [
      "On peut naturellement attacher \u00e0 cette instance un attribut `attribut`, comme on l'a d\u00e9j\u00e0 vu :"
     ]
    },
    {
     "cell_type": "code",
     "collapsed": false,
     "input": [
      "# on affecte l'attribut de l'instance\n",
      "special.attribut = \"attribut de l'instance\"\n",
      "\n",
      "# naturellement on retrouve cette valeur quand\n",
      "# on cherche l'attribut \u00e0 partir de l'instance\n",
      "print 'special:', special.attribut"
     ],
     "language": "python",
     "metadata": {},
     "outputs": []
    },
    {
     "cell_type": "markdown",
     "metadata": {},
     "source": [
      "Le point important de ce compl\u00e9ment, c'est qu'une **instance** \u00e0 laquelle on n'a pourtant pas attach\u00e9 d'attribut `attribut` peut tout de m\u00eame **r\u00e9f\u00e9rencer** cet attribut et **trouver celui de la classe** comme si c'\u00e9tait le sien:"
     ]
    },
    {
     "cell_type": "code",
     "collapsed": false,
     "input": [
      "# une autre instance de Demo\n",
      "defaut = Demo()\n",
      "\n",
      "# par contre on ne lui affecte *pas* d'attribut d'instance\n",
      "# mais on peut *tout de m\u00eame* chercher l'attribut\n",
      "print 'defaut:', defaut.attribut"
     ],
     "language": "python",
     "metadata": {},
     "outputs": []
    },
    {
     "cell_type": "heading",
     "level": 3,
     "metadata": {},
     "source": [
      "Discussion"
     ]
    },
    {
     "cell_type": "markdown",
     "metadata": {},
     "source": [
      "En fait, on a d\u00e9j\u00e0 vu ce m\u00e9canisme en action; c'est exactement la m\u00eame chose qui se passe lorsqu'on a :\n",
      " * Une classe qui d\u00e9finit la m\u00e9thode `foo`\n",
      " * et une instance `obj` \u00e0 laquelle on envoie la m\u00e9thode en faisant\n",
      " \n",
      "    obj.foo()\n",
      "\n",
      "Le m\u00e9canisme de recherche d'un attribut sur une instance est le m\u00eame, que cet attribut repr\u00e9sente une donn\u00e9e ou une fonction; et en fait c'est juste tout \u00e0 fait \u00e9vident, puisque tant qu'on n'a pas localis\u00e9 cet attribut, eh bien on ne peut pas savoir si c'est une m\u00e9thode ou une donn\u00e9e."
     ]
    },
    {
     "cell_type": "heading",
     "level": 3,
     "metadata": {},
     "source": [
      "Un attribut de code d\u00e9fini sur une instance"
     ]
    },
    {
     "cell_type": "markdown",
     "metadata": {},
     "source": [
      "D\u00e9finir une variable dans une classe, comme on vient de le voir, pr\u00e9sente un int\u00e9r\u00eat pratique; il est parfois commode de d\u00e9finir une constante, ou une valeur par d\u00e9faut, au niveau de la classe, et qui s'applique alors \u00e0 tous les objets.\n",
      "\n",
      "Nous allons \u00e0 pr\u00e9sent illustrer la possibilit\u00e9 de d\u00e9finir une m\u00e9thode au niveau d'une instance. Pour cela nous reprenons tr\u00e8s sommairement notre classe `Matrix2`."
     ]
    },
    {
     "cell_type": "code",
     "collapsed": false,
     "input": [
      "class Matrix2:\n",
      "    \"\"\"matrice carr\u00e9e 2x2\"\"\"\n",
      "    def __init__(self, a11, a12, a21, a22):\n",
      "        \"construit une matrice \u00e0 partir des 4 coefficients\"\n",
      "        self.a = (a11, a12, a21, a22)\n",
      "        \n",
      "    def __repr__(self):\n",
      "        return \"<<mat-2x2 {}>>\".format(self.a)\n",
      "        \n",
      "matrice = Matrix2(2, 4, -4, 2)\n",
      "matrice"
     ],
     "language": "python",
     "metadata": {},
     "outputs": []
    },
    {
     "cell_type": "markdown",
     "metadata": {},
     "source": [
      "Maintenant on peut tout \u00e0 fait cr\u00e9er une instance particuli\u00e8re, l'identit\u00e9 :\n"
     ]
    },
    {
     "cell_type": "code",
     "collapsed": false,
     "input": [
      "identite = Matrix2(1, 0, 0, 1)"
     ],
     "language": "python",
     "metadata": {},
     "outputs": []
    },
    {
     "cell_type": "markdown",
     "metadata": {},
     "source": [
      "et lui attacher une m\u00e9thode en propre"
     ]
    },
    {
     "cell_type": "code",
     "collapsed": false,
     "input": [
      "def repr_identite(self):\n",
      "    return \"<<identite-2x2>>\"\n",
      "import types\n",
      "identite.__repr__ = types.MethodType(repr_identite, identite)"
     ],
     "language": "python",
     "metadata": {},
     "outputs": []
    },
    {
     "cell_type": "markdown",
     "metadata": {},
     "source": [
      "apr\u00e8s quoi on verra cet objet s'afficher diff\u00e9remment des autres"
     ]
    },
    {
     "cell_type": "code",
     "collapsed": false,
     "input": [
      "identite"
     ],
     "language": "python",
     "metadata": {},
     "outputs": []
    },
    {
     "cell_type": "markdown",
     "metadata": {},
     "source": [
      "Ceci ne devrait plus vous surprendre, apr\u00e8s ce que nous avons vu dans la premi\u00e8re partie. Il faut avouer toutefois que cette pratique est par contre rarissime dans le code r\u00e9el."
     ]
    },
    {
     "cell_type": "heading",
     "level": 3,
     "metadata": {},
     "source": [
      "Conclusion"
     ]
    },
    {
     "cell_type": "markdown",
     "metadata": {},
     "source": [
      "Comme on l'a vu, le m\u00e9canisme d'attributs est extr\u00eamement simple, tr\u00e8s souple et tr\u00e8s puissant. \n",
      "\n",
      "Le langage ne fait pas de diff\u00e9rence entre attributs de donn\u00e9es et m\u00e9thodes - si ce n'est la syntaxe de l'instruction `class`, qui n'est en r\u00e9alit\u00e9 qu'une commodit\u00e9.\n",
      "\n",
      "On peut attacher, au choix, \u00e0 l'instance ou \u00e0 la classe, des attributs repr\u00e9sentant **des donn\u00e9es ou du code**, et la recherche de ces attributs se fait dans l'ordre **instance** puis **classe**.\n",
      "\n",
      "Nous verrons dans la prochaine vid\u00e9o que les m\u00e9canismes d'h\u00e9ritage ne font que prolonger ce m\u00e9canisme de recherche d'attributs."
     ]
    }
   ],
   "metadata": {}
  }
 ]
}
