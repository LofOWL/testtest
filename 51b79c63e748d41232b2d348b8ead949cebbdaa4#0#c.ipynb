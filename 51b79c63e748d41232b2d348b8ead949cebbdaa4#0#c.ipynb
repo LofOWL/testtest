{
 "metadata": {
  "notebookname": "Recherche d'attributs",
  "signature": "ae9cc68e05b4e700b99e21db3ee94470938ff39665f8160408677385e90453c9",
  "version": "1.0"
 },
 "nbformat": 3,
 "nbformat_minor": 0,
 "worksheets": [
  {
   "cells": [
    {
     "cell_type": "heading",
     "level": 1,
     "metadata": {},
     "source": [
      "Attributs de classe et attributs d'instance"
     ]
    },
    {
     "cell_type": "heading",
     "level": 2,
     "metadata": {},
     "source": [
      "Compl\u00e9ment - niveau interm\u00e9diaire"
     ]
    },
    {
     "cell_type": "markdown",
     "metadata": {},
     "source": [
      "Nous avons vu jusqu'\u00e0 pr\u00e9sent que l'on peut ajouter des attributs \u00e0 toutes sortes d'objets en python, et notamment \u00e0\n",
      " * un module,\n",
      " * une fonction,\n",
      " * une classe,\n",
      " * une instance de classe."
     ]
    },
    {
     "cell_type": "markdown",
     "metadata": {},
     "source": [
      "En particulier nous avons vu que, **en r\u00e8gle g\u00e9n\u00e9rale** : \n",
      " * une *m\u00e9thode* est un *attribut de classe*,\n",
      " * et que les *donn\u00e9es* qui d\u00e9crivent l'objet sont rang\u00e9es dans des *attributs de l'instance*."
     ]
    },
    {
     "cell_type": "heading",
     "level": 3,
     "metadata": {},
     "source": [
      "Propos de ce compl\u00e9ment"
     ]
    },
    {
     "cell_type": "markdown",
     "metadata": {},
     "source": [
      "Dans ce compl\u00e9ment nous allons approfondir les notions d'attributs de classe et attributs d'instance. Nous allons tout d'abord voir qu'un attribut est cherch\u00e9 **d'abord dans l'instance** et **ensuite dans la classe**. Ce faisant nous verrons que le langage permet \u00e9galement :\n",
      " * d'attacher des *donn\u00e9es \u00e0 une classe* - pour d\u00e9finir une valeur par d\u00e9faut valable pour toute la classe, ou de\n",
      " * *d\u00e9finir une m\u00e9thode sur une instance* - pour sp\u00e9cialiser un comportement pour un seul objet, et ainsi \u00e9viter de d\u00e9finir une nouvelle classe pour un seul objet. \n",
      " \n",
      "Nous d\u00e9montrons ce dernier point, qui est franchement abscons, dans la derni\u00e8re partie de ce compl\u00e9ment, de niveau avanc\u00e9."
     ]
    },
    {
     "cell_type": "heading",
     "level": 3,
     "metadata": {},
     "source": [
      "Un attribut de donn\u00e9e d\u00e9fini sur la classe"
     ]
    },
    {
     "cell_type": "markdown",
     "metadata": {},
     "source": [
      "Voyons pour commencer un exemple de classe avec un attribut de donn\u00e9es"
     ]
    },
    {
     "cell_type": "code",
     "collapsed": false,
     "input": [
      "class Spam:\n",
      "    \n",
      "    attribut = \"attribut de classe\""
     ],
     "language": "python",
     "metadata": {},
     "outputs": []
    },
    {
     "cell_type": "markdown",
     "metadata": {},
     "source": [
      "Naturellement, on aurait pu aussi d\u00e9finir des m\u00e9thodes dans cette classe, mais nous avons juste choisi de montrer le plus petit exemple possible."
     ]
    },
    {
     "cell_type": "markdown",
     "metadata": {},
     "source": [
      "La classe `Spam` poss\u00e8de donc maintenant l'attribut `attribut` qui vaut"
     ]
    },
    {
     "cell_type": "code",
     "collapsed": false,
     "input": [
      "Spam.attribut"
     ],
     "language": "python",
     "metadata": {},
     "outputs": []
    },
    {
     "cell_type": "markdown",
     "metadata": {},
     "source": [
      "Cr\u00e9ons \u00e0 pr\u00e9sent une instance de cette classe :"
     ]
    },
    {
     "cell_type": "code",
     "collapsed": false,
     "input": [
      "# une instance sp\u00e9ciale de Spam - on va lui attacher un attribut\n",
      "special = Spam()"
     ],
     "language": "python",
     "metadata": {},
     "outputs": []
    },
    {
     "cell_type": "markdown",
     "metadata": {},
     "source": [
      "On peut naturellement attacher \u00e0 cette instance un attribut `attribut`, comme on l'a d\u00e9j\u00e0 vu :"
     ]
    },
    {
     "cell_type": "code",
     "collapsed": false,
     "input": [
      "# on affecte l'attribut de l'instance\n",
      "special.attribut = \"attribut de l'instance\"\n",
      "\n",
      "# naturellement on retrouve cette valeur quand\n",
      "# on cherche l'attribut \u00e0 partir de l'instance\n",
      "print 'special:', special.attribut"
     ],
     "language": "python",
     "metadata": {},
     "outputs": []
    },
    {
     "cell_type": "markdown",
     "metadata": {},
     "source": [
      "Le point important de ce compl\u00e9ment, c'est qu'une **instance** \u00e0 laquelle on n'a pourtant pas attach\u00e9 d'attribut `attribut` peut tout de m\u00eame **r\u00e9f\u00e9rencer** cet attribut et **trouver celui de la classe** comme si c'\u00e9tait le sien:"
     ]
    },
    {
     "cell_type": "code",
     "collapsed": false,
     "input": [
      "# une autre instance de Spam\n",
      "defaut = Spam()\n",
      "\n",
      "# par contre on ne lui affecte *pas* d'attribut d'instance\n",
      "# mais on peut *tout de m\u00eame* chercher l'attribut\n",
      "print 'defaut:', defaut.attribut"
     ],
     "language": "python",
     "metadata": {},
     "outputs": []
    },
    {
     "cell_type": "heading",
     "level": 3,
     "metadata": {},
     "source": [
      "Discussion"
     ]
    },
    {
     "cell_type": "markdown",
     "metadata": {},
     "source": [
      "En fait, on a d\u00e9j\u00e0 vu ce m\u00e9canisme en action; c'est exactement la m\u00eame chose qui se passe lorsqu'on a, de mani\u00e8re tr\u00e8s classique :\n",
      " * Une classe qui d\u00e9finit la m\u00e9thode `foo`\n",
      " * et une instance `obj` \u00e0 laquelle on envoie la m\u00e9thode en faisant\n",
      " \n",
      "    obj.foo()\n",
      "\n",
      "Le m\u00e9canisme de recherche d'un attribut sur une instance est le m\u00eame, que cet attribut repr\u00e9sente une m\u00e9thode ou une donn\u00e9e; et en fait c'est juste tout \u00e0 fait \u00e9vident, puisque tant qu'on n'a pas localis\u00e9 cet attribut, eh bien on ne peut pas savoir si c'est une m\u00e9thode ou une donn\u00e9e :)"
     ]
    },
    {
     "cell_type": "heading",
     "level": 3,
     "metadata": {},
     "source": [
      "Conclusion"
     ]
    },
    {
     "cell_type": "markdown",
     "metadata": {},
     "source": [
      "Comme on l'a vu, le m\u00e9canisme d'attributs, bien qu'extr\u00eamement simple, est tr\u00e8s souple et tr\u00e8s puissant. \n",
      "\n",
      "Le langage ne fait pas de diff\u00e9rence entre attributs de donn\u00e9es et m\u00e9thodes - si ce n'est la syntaxe de l'instruction `class`, qui n'est en r\u00e9alit\u00e9 qu'une commodit\u00e9.\n",
      "\n",
      "On peut attacher, au choix, **\u00e0 une instance ou \u00e0 une classe**, des attributs repr\u00e9sentant **des donn\u00e9es ou du code**, et la recherche de ces attributs se fait dans l'ordre **instance** puis **classe**.\n",
      "\n",
      "Nous verrons dans la prochaine vid\u00e9o que les m\u00e9canismes d'h\u00e9ritage ne font que prolonger ce m\u00e9canisme de recherche d'attributs."
     ]
    },
    {
     "cell_type": "heading",
     "level": 2,
     "metadata": {},
     "source": [
      "Compl\u00e9ment - niveau avanc\u00e9"
     ]
    },
    {
     "cell_type": "heading",
     "level": 3,
     "metadata": {},
     "source": [
      "Un attribut de code d\u00e9fini sur une instance"
     ]
    },
    {
     "cell_type": "markdown",
     "metadata": {},
     "source": [
      "D\u00e9finir une variable dans une classe, comme on vient de le voir, pr\u00e9sente un int\u00e9r\u00eat pratique; il est parfois commode de d\u00e9finir une constante, ou une valeur par d\u00e9faut, au niveau de la classe, et qui s'applique alors \u00e0 tous les objets.\n",
      "\n",
      "Nous allons \u00e0 pr\u00e9sent illustrer la possibilit\u00e9 de d\u00e9finir une m\u00e9thode au niveau d'une instance. Ceci ne pr\u00e9sente par contre gu\u00e8re d'int\u00e9r\u00eat pratique, il s'agit plut\u00f4t de bien comprendre les m\u00e9canismes du langage. Pour cela nous prenons \u00e0 nouveau une classe jouet."
     ]
    },
    {
     "cell_type": "code",
     "collapsed": false,
     "input": [
      "class Eggs:\n",
      "    def __init__(self, name):\n",
      "        self.name = name"
     ],
     "language": "python",
     "metadata": {},
     "outputs": []
    },
    {
     "cell_type": "markdown",
     "metadata": {},
     "source": [
      "Et nous cr\u00e9ons \u00e0 nouveau deux instances, une qui va se comporter comme la classe, et une qui aura un comportement sp\u00e9cial"
     ]
    },
    {
     "cell_type": "code",
     "collapsed": false,
     "input": [
      "defaut = Eggs('defaut')\n",
      "special = Eggs('special')\n",
      "\n",
      "print 'defaut', defaut, 'special', special"
     ],
     "language": "python",
     "metadata": {},
     "outputs": []
    },
    {
     "cell_type": "markdown",
     "metadata": {},
     "source": [
      "On va maintenant attacher \u00e0 la classe une m\u00e9thode `__repr__` pour red\u00e9finir comment imprimer les objets de la classe `Eggs`"
     ]
    },
    {
     "cell_type": "code",
     "collapsed": false,
     "input": [
      "# on red\u00e9finit la m\u00e9thode __repr__ sur la classe `Eggs`\n",
      "def repr_eggs(self):\n",
      "    return \"<<Eggs instance, name={}>>\".format(self.name)\n",
      "Eggs.__repr__ = repr_eggs\n",
      "\n",
      "# \u00e0 pr\u00e9sent les deux instances s'impriment selon ce format\n",
      "print 'defaut', defaut, 'special', special"
     ],
     "language": "python",
     "metadata": {},
     "outputs": []
    },
    {
     "cell_type": "markdown",
     "metadata": {},
     "source": [
      "Jusqu'ici rien de nouveau. \n",
      "\n",
      "Nous allons maintenant attacher une m\u00e9thode `__repr__` **\u00e0 une instance** en propre. C'est ici que les choses se compliquent un tout petit peu. Nous avons deux choix pour cela. "
     ]
    },
    {
     "cell_type": "heading",
     "level": 5,
     "metadata": {},
     "source": [
      "Premi\u00e8re technique"
     ]
    },
    {
     "cell_type": "markdown",
     "metadata": {},
     "source": [
      "La premi\u00e8re technique consiste \u00e0 d\u00e9finir une fonction **sans argument**. C'est surprenant car nous avons vu jusqu'ici que `__repr__` s'attend \u00e0 recevoir **un argument**.\n",
      " \n",
      "Voyons d'abord le code "
     ]
    },
    {
     "cell_type": "code",
     "collapsed": false,
     "input": [
      "# on d\u00e9finit une fonction, sans argument donc\n",
      "def repr_special_sans_argument():\n",
      "    return \"<<SPECIAL (technique sans argument)>>\"\n",
      "\n",
      "# et on l'attache \u00e0 l'instance\n",
      "special.__repr__ = repr_special_sans_argument\n",
      "\n",
      "# \u00e0 pr\u00e9sent on a chang\u00e9 le format d'impression de special\n",
      "print 'defaut', defaut, 'special', special"
     ],
     "language": "python",
     "metadata": {},
     "outputs": []
    },
    {
     "cell_type": "markdown",
     "metadata": {},
     "source": [
      "Avant d'aller plus loin, souvenez-vous qu'avant de parler de classes on a parl\u00e9 de programmation fonctionnelle; on pourrait tr\u00e8s bien avoir envie de ranger dans un attribut une vraie fonction, et pouvoir l'appeler sans forc\u00e9ment vouloir mettre en \u0153uvre la *magie* qui consiste \u00e0 mettre l'objet lui-m\u00eame comme premier argument.\n",
      "\n",
      "Il faut donc pouvoir diff\u00e9rencier entre ces deux cas, selon que l'on veut ou non ajouter l'instance comme premier objet de l'appel qui est fait lorsqu'on \u00e9crit `obj.foo()`.\n",
      "\n",
      "C'est exactement ce qui se passe ici: la m\u00e9thode que nous avons attach\u00e9e \u00e0 l'instance n'est pas de m\u00eame nature que celle attach\u00e9e \u00e0 la classe; voyons ces deux objets :"
     ]
    },
    {
     "cell_type": "code",
     "collapsed": false,
     "input": [
      "print \"sur la classe\", Eggs.__repr__\n",
      "print \"sur l'instance\",special.__repr__"
     ],
     "language": "python",
     "metadata": {},
     "outputs": []
    },
    {
     "cell_type": "markdown",
     "metadata": {},
     "source": [
      "On voit que sur la classe, l'attribut `__repr__` est un objet de type `unbound method`, alors que sur l'instance c'est un objet de type `function` tout b\u00eate.\n",
      "\n",
      "Et c'est sur cette diff\u00e9rence que se base l'interpr\u00e9teur pour ajouter, ou non, l'objet en premier argument de l'appel."
     ]
    },
    {
     "cell_type": "heading",
     "level": 5,
     "metadata": {},
     "source": [
      "Deuxi\u00e8me technique"
     ]
    },
    {
     "cell_type": "markdown",
     "metadata": {},
     "source": [
      "Si on veut se mettre dans un cadre plus conforme \u00e0 ce qui est habituel, il faut utiliser une astuce. On commence par \u00e9crire une fonction qui prend bien **un argument** :"
     ]
    },
    {
     "cell_type": "code",
     "collapsed": false,
     "input": [
      "# on d\u00e9finit la m\u00e9tode d'impression sur l'instance 'special'\n",
      "def repr_special_avec_argument(self):\n",
      "    return \"<<SPECIAL {} (technique avec argument)\".format(self.name)"
     ],
     "language": "python",
     "metadata": {},
     "outputs": []
    },
    {
     "cell_type": "markdown",
     "metadata": {},
     "source": [
      "Mais au lieu de l'attacher telle quelle on la convertit en `bound method` gr\u00e2ce \u00e0 ce code :"
     ]
    },
    {
     "cell_type": "code",
     "collapsed": false,
     "input": [
      "import types\n",
      "special.__repr__ = types.MethodType(repr_special_avec_argument, special)"
     ],
     "language": "python",
     "metadata": {},
     "outputs": []
    },
    {
     "cell_type": "markdown",
     "metadata": {},
     "source": [
      "apr\u00e8s quoi on verra cet objet s'afficher diff\u00e9remment des autres"
     ]
    },
    {
     "cell_type": "code",
     "collapsed": false,
     "input": [
      "special"
     ],
     "language": "python",
     "metadata": {},
     "outputs": []
    },
    {
     "cell_type": "markdown",
     "metadata": {},
     "source": [
      "Et la valeur de l'attribut `__repr__` est bien maintenant vue comme une m\u00e9thode et non comme une fonction :"
     ]
    },
    {
     "cell_type": "code",
     "collapsed": false,
     "input": [
      "print \"sur l'instance\",special.__repr__"
     ],
     "language": "python",
     "metadata": {},
     "outputs": []
    },
    {
     "cell_type": "heading",
     "level": 5,
     "metadata": {},
     "source": [
      "Pour en savoir plus"
     ]
    },
    {
     "cell_type": "markdown",
     "metadata": {},
     "source": [
      "Ce sujet est discut\u00e9 plus en profondeur dans [cet article de stackoverflow](http://stackoverflow.com/questions/972/adding-a-method-to-an-existing-object)"
     ]
    }
   ],
   "metadata": {}
  }
 ]
}